{
  "nbformat": 4,
  "nbformat_minor": 0,
  "metadata": {
    "colab": {
      "name": "1_Tensor Basics.ipynb",
      "provenance": [],
      "authorship_tag": "ABX9TyOyrRyERR93aaKCV6DbYLWa",
      "include_colab_link": true
    },
    "kernelspec": {
      "name": "python3",
      "display_name": "Python 3"
    },
    "accelerator": "GPU"
  },
  "cells": [
    {
      "cell_type": "markdown",
      "metadata": {
        "id": "view-in-github",
        "colab_type": "text"
      },
      "source": [
        "<a href=\"https://colab.research.google.com/github/mehmetcolgecen/TensorFlow/blob/main/1_Tensor_Basics.ipynb\" target=\"_parent\"><img src=\"https://colab.research.google.com/assets/colab-badge.svg\" alt=\"Open In Colab\"/></a>"
      ]
    },
    {
      "cell_type": "code",
      "metadata": {
        "id": "_GKar2PPldsR"
      },
      "source": [
        "import tensorflow as tf\r\n",
        "import numpy as np\r\n",
        "import pandas as pd"
      ],
      "execution_count": 51,
      "outputs": []
    },
    {
      "cell_type": "code",
      "metadata": {
        "id": "76MUV1KdwrI-"
      },
      "source": [
        "#No need for now might be useful in future\r\n",
        "#physical_devices = tf.config.list_physical_devices('GPU')\r\n",
        "#tf.config.experimental.set_memory_growth(physical_devices[0], True)"
      ],
      "execution_count": null,
      "outputs": []
    },
    {
      "cell_type": "markdown",
      "metadata": {
        "id": "JuNPHMLTsbZp"
      },
      "source": [
        "# **Initialization Methods**"
      ]
    },
    {
      "cell_type": "code",
      "metadata": {
        "colab": {
          "base_uri": "https://localhost:8080/"
        },
        "id": "7tIhaoAPlmTX",
        "outputId": "9dd8d737-9f99-4f8e-e713-76bdcbc308bf"
      },
      "source": [
        "x = tf.constant(4)\r\n",
        "x"
      ],
      "execution_count": 3,
      "outputs": [
        {
          "output_type": "execute_result",
          "data": {
            "text/plain": [
              "<tf.Tensor: shape=(), dtype=int32, numpy=4>"
            ]
          },
          "metadata": {
            "tags": []
          },
          "execution_count": 3
        }
      ]
    },
    {
      "cell_type": "code",
      "metadata": {
        "colab": {
          "base_uri": "https://localhost:8080/"
        },
        "id": "YBLV8ZxDltyW",
        "outputId": "312c2489-66e4-4935-d585-b442090c640b"
      },
      "source": [
        "#dtype argument can be \"float\" or \"tf.float32\"\r\n",
        "x = tf.constant(4, shape=(1,1), dtype = tf.float32)\r\n",
        "x"
      ],
      "execution_count": 4,
      "outputs": [
        {
          "output_type": "execute_result",
          "data": {
            "text/plain": [
              "<tf.Tensor: shape=(1, 1), dtype=float32, numpy=array([[4.]], dtype=float32)>"
            ]
          },
          "metadata": {
            "tags": []
          },
          "execution_count": 4
        }
      ]
    },
    {
      "cell_type": "code",
      "metadata": {
        "colab": {
          "base_uri": "https://localhost:8080/"
        },
        "id": "7lM7yUuEmAcy",
        "outputId": "52742a88-1e29-421e-8c71-ae0f52753dde"
      },
      "source": [
        "x = tf.constant ([1,2,3])\r\n",
        "x"
      ],
      "execution_count": 5,
      "outputs": [
        {
          "output_type": "execute_result",
          "data": {
            "text/plain": [
              "<tf.Tensor: shape=(3,), dtype=int32, numpy=array([1, 2, 3], dtype=int32)>"
            ]
          },
          "metadata": {
            "tags": []
          },
          "execution_count": 5
        }
      ]
    },
    {
      "cell_type": "code",
      "metadata": {
        "colab": {
          "base_uri": "https://localhost:8080/"
        },
        "id": "HwPBjo6hm-ut",
        "outputId": "303b21ae-65a6-4173-fdd1-00fd39d78c38"
      },
      "source": [
        "arr = np.array([[1,2,3],[4,5,6]])\r\n",
        "x = tf.constant(arr)\r\n",
        "x"
      ],
      "execution_count": 10,
      "outputs": [
        {
          "output_type": "execute_result",
          "data": {
            "text/plain": [
              "<tf.Tensor: shape=(2, 3), dtype=int64, numpy=\n",
              "array([[1, 2, 3],\n",
              "       [4, 5, 6]])>"
            ]
          },
          "metadata": {
            "tags": []
          },
          "execution_count": 10
        }
      ]
    },
    {
      "cell_type": "code",
      "metadata": {
        "colab": {
          "base_uri": "https://localhost:8080/"
        },
        "id": "qNeKa-PSnbp7",
        "outputId": "7fa40d58-afb1-480d-b976-9c2d11a13cfe"
      },
      "source": [
        "#converts pandas data frame into numpy array\r\n",
        "df = pd.DataFrame(arr)\r\n",
        "x=tf.constant(df)\r\n",
        "x"
      ],
      "execution_count": 12,
      "outputs": [
        {
          "output_type": "execute_result",
          "data": {
            "text/plain": [
              "<tf.Tensor: shape=(2, 3), dtype=int64, numpy=\n",
              "array([[1, 2, 3],\n",
              "       [4, 5, 6]])>"
            ]
          },
          "metadata": {
            "tags": []
          },
          "execution_count": 12
        }
      ]
    },
    {
      "cell_type": "code",
      "metadata": {
        "colab": {
          "base_uri": "https://localhost:8080/"
        },
        "id": "u9jHR53_nxRc",
        "outputId": "6696859c-1ddb-40cd-fd17-c65dcc64bf85"
      },
      "source": [
        "x = tf.ones((3,3))\r\n",
        "x"
      ],
      "execution_count": 13,
      "outputs": [
        {
          "output_type": "execute_result",
          "data": {
            "text/plain": [
              "<tf.Tensor: shape=(3, 3), dtype=float32, numpy=\n",
              "array([[1., 1., 1.],\n",
              "       [1., 1., 1.],\n",
              "       [1., 1., 1.]], dtype=float32)>"
            ]
          },
          "metadata": {
            "tags": []
          },
          "execution_count": 13
        }
      ]
    },
    {
      "cell_type": "code",
      "metadata": {
        "colab": {
          "base_uri": "https://localhost:8080/"
        },
        "id": "7_y5Q79ooTu0",
        "outputId": "960709c8-f8a6-4ad8-d697-fbaff5cc6713"
      },
      "source": [
        "x=tf.zeros((2,3))\r\n",
        "x"
      ],
      "execution_count": 15,
      "outputs": [
        {
          "output_type": "execute_result",
          "data": {
            "text/plain": [
              "<tf.Tensor: shape=(2, 3), dtype=float32, numpy=\n",
              "array([[0., 0., 0.],\n",
              "       [0., 0., 0.]], dtype=float32)>"
            ]
          },
          "metadata": {
            "tags": []
          },
          "execution_count": 15
        }
      ]
    },
    {
      "cell_type": "code",
      "metadata": {
        "colab": {
          "base_uri": "https://localhost:8080/"
        },
        "id": "8Ostu6AaoXe5",
        "outputId": "10d89744-27a4-4141-a19d-24f183c22db1"
      },
      "source": [
        "x=tf.eye((3))\r\n",
        "x"
      ],
      "execution_count": 20,
      "outputs": [
        {
          "output_type": "execute_result",
          "data": {
            "text/plain": [
              "<tf.Tensor: shape=(3, 3), dtype=float32, numpy=\n",
              "array([[1., 0., 0.],\n",
              "       [0., 1., 0.],\n",
              "       [0., 0., 1.]], dtype=float32)>"
            ]
          },
          "metadata": {
            "tags": []
          },
          "execution_count": 20
        }
      ]
    },
    {
      "cell_type": "code",
      "metadata": {
        "colab": {
          "base_uri": "https://localhost:8080/"
        },
        "id": "BKmotSuXobwM",
        "outputId": "08d972f8-60c0-430e-dcdd-221dbad65176"
      },
      "source": [
        "#randomly initialize with standart distibition\r\n",
        "x = tf.random.normal((3,3))\r\n",
        "x"
      ],
      "execution_count": 22,
      "outputs": [
        {
          "output_type": "execute_result",
          "data": {
            "text/plain": [
              "<tf.Tensor: shape=(3, 3), dtype=float32, numpy=\n",
              "array([[ 1.405853  , -0.10078445,  0.45303673],\n",
              "       [-0.4296344 , -1.9473711 , -1.0242529 ],\n",
              "       [-1.3283232 , -0.66924334, -1.233518  ]], dtype=float32)>"
            ]
          },
          "metadata": {
            "tags": []
          },
          "execution_count": 22
        }
      ]
    },
    {
      "cell_type": "code",
      "metadata": {
        "colab": {
          "base_uri": "https://localhost:8080/"
        },
        "id": "nwHtxCmTo3iE",
        "outputId": "7adbb804-fec9-4fbc-db66-a29c2b5c26e9"
      },
      "source": [
        "#randomly initialize with uniform distibition\r\n",
        "tf.random.uniform((3,3))"
      ],
      "execution_count": 23,
      "outputs": [
        {
          "output_type": "execute_result",
          "data": {
            "text/plain": [
              "<tf.Tensor: shape=(3, 3), dtype=float32, numpy=\n",
              "array([[0.66010857, 0.2679788 , 0.27205884],\n",
              "       [0.49216092, 0.7835747 , 0.88348377],\n",
              "       [0.9793452 , 0.7915299 , 0.51161873]], dtype=float32)>"
            ]
          },
          "metadata": {
            "tags": []
          },
          "execution_count": 23
        }
      ]
    },
    {
      "cell_type": "code",
      "metadata": {
        "colab": {
          "base_uri": "https://localhost:8080/"
        },
        "id": "Z4-V8xtapQQv",
        "outputId": "492c8c1c-8aed-4222-bc66-c3fa55ec0175"
      },
      "source": [
        "x = tf.range(1,10,2)\r\n",
        "x"
      ],
      "execution_count": 26,
      "outputs": [
        {
          "output_type": "execute_result",
          "data": {
            "text/plain": [
              "<tf.Tensor: shape=(5,), dtype=int32, numpy=array([1, 3, 5, 7, 9], dtype=int32)>"
            ]
          },
          "metadata": {
            "tags": []
          },
          "execution_count": 26
        }
      ]
    },
    {
      "cell_type": "code",
      "metadata": {
        "colab": {
          "base_uri": "https://localhost:8080/"
        },
        "id": "Ta0pi1EMpe6G",
        "outputId": "b42287cc-5b35-4873-a716-3590aefa1268"
      },
      "source": [
        "#veri tipini değiştirelim\r\n",
        "tf.cast(x, dtype=tf.float64)"
      ],
      "execution_count": 28,
      "outputs": [
        {
          "output_type": "execute_result",
          "data": {
            "text/plain": [
              "<tf.Tensor: shape=(5,), dtype=float64, numpy=array([1., 3., 5., 7., 9.])>"
            ]
          },
          "metadata": {
            "tags": []
          },
          "execution_count": 28
        }
      ]
    },
    {
      "cell_type": "markdown",
      "metadata": {
        "id": "U1Ph8Y9RsJWF"
      },
      "source": [
        "# **Mathematical Operations**"
      ]
    },
    {
      "cell_type": "code",
      "metadata": {
        "id": "XcfEqbkFqHdl"
      },
      "source": [
        "x = tf.constant([1,2,3])\r\n",
        "y = tf.constant([9,8,7])"
      ],
      "execution_count": 30,
      "outputs": []
    },
    {
      "cell_type": "code",
      "metadata": {
        "colab": {
          "base_uri": "https://localhost:8080/"
        },
        "id": "paUnTibdsTog",
        "outputId": "92df0645-e5e5-4718-ef48-cbdd1a2b3c0f"
      },
      "source": [
        "#elementwise add\r\n",
        "tf.add(x,y) # same with x + y"
      ],
      "execution_count": 31,
      "outputs": [
        {
          "output_type": "execute_result",
          "data": {
            "text/plain": [
              "<tf.Tensor: shape=(3,), dtype=int32, numpy=array([10, 10, 10], dtype=int32)>"
            ]
          },
          "metadata": {
            "tags": []
          },
          "execution_count": 31
        }
      ]
    },
    {
      "cell_type": "code",
      "metadata": {
        "colab": {
          "base_uri": "https://localhost:8080/"
        },
        "id": "-ObZ_-bTtI9C",
        "outputId": "07a3ea5a-fa43-47dd-fa5f-dc1c24bf212d"
      },
      "source": [
        "#elementwise\r\n",
        "tf.subtract(y,x) # same with y-x"
      ],
      "execution_count": 33,
      "outputs": [
        {
          "output_type": "execute_result",
          "data": {
            "text/plain": [
              "<tf.Tensor: shape=(3,), dtype=int32, numpy=array([8, 6, 4], dtype=int32)>"
            ]
          },
          "metadata": {
            "tags": []
          },
          "execution_count": 33
        }
      ]
    },
    {
      "cell_type": "code",
      "metadata": {
        "colab": {
          "base_uri": "https://localhost:8080/"
        },
        "id": "vkN_vhP8tRML",
        "outputId": "23de1f41-bd76-40b3-fd06-09a2fede6052"
      },
      "source": [
        "#element wise\r\n",
        "tf.divide(x,y) # same with x/y"
      ],
      "execution_count": 34,
      "outputs": [
        {
          "output_type": "execute_result",
          "data": {
            "text/plain": [
              "<tf.Tensor: shape=(3,), dtype=float64, numpy=array([0.11111111, 0.25      , 0.42857143])>"
            ]
          },
          "metadata": {
            "tags": []
          },
          "execution_count": 34
        }
      ]
    },
    {
      "cell_type": "code",
      "metadata": {
        "colab": {
          "base_uri": "https://localhost:8080/"
        },
        "id": "nss_32s8tW_V",
        "outputId": "70de317c-a0f5-443e-a51e-6fbfe2082229"
      },
      "source": [
        "#elementwise\r\n",
        "tf.multiply(x,y) # same with x*y"
      ],
      "execution_count": 36,
      "outputs": [
        {
          "output_type": "execute_result",
          "data": {
            "text/plain": [
              "<tf.Tensor: shape=(3,), dtype=int32, numpy=array([ 9, 16, 21], dtype=int32)>"
            ]
          },
          "metadata": {
            "tags": []
          },
          "execution_count": 36
        }
      ]
    },
    {
      "cell_type": "code",
      "metadata": {
        "colab": {
          "base_uri": "https://localhost:8080/"
        },
        "id": "pWzhPgvYtaYT",
        "outputId": "37e78c1d-3088-48c4-8d46-5256a643253f"
      },
      "source": [
        "#dotproduct ==> elementwise multiplication and summation\r\n",
        "tf.tensordot(x, y, axes=1)"
      ],
      "execution_count": 42,
      "outputs": [
        {
          "output_type": "execute_result",
          "data": {
            "text/plain": [
              "<tf.Tensor: shape=(), dtype=int32, numpy=46>"
            ]
          },
          "metadata": {
            "tags": []
          },
          "execution_count": 42
        }
      ]
    },
    {
      "cell_type": "code",
      "metadata": {
        "colab": {
          "base_uri": "https://localhost:8080/"
        },
        "id": "uEp4X5BXuYRD",
        "outputId": "8062eec6-c08d-49e6-b84c-113b703384f2"
      },
      "source": [
        "#mathematically;\r\n",
        "1*9 + 2*8 + 3*7"
      ],
      "execution_count": 44,
      "outputs": [
        {
          "output_type": "execute_result",
          "data": {
            "text/plain": [
              "46"
            ]
          },
          "metadata": {
            "tags": []
          },
          "execution_count": 44
        }
      ]
    },
    {
      "cell_type": "code",
      "metadata": {
        "colab": {
          "base_uri": "https://localhost:8080/"
        },
        "id": "m4Bku1G3u_Gf",
        "outputId": "5a4b7288-4a0f-4192-f82c-c88f6a9bce2d"
      },
      "source": [
        "#in order to sum raws and columns\r\n",
        "tf.reduce_sum(x,axis=0)"
      ],
      "execution_count": 48,
      "outputs": [
        {
          "output_type": "execute_result",
          "data": {
            "text/plain": [
              "<tf.Tensor: shape=(), dtype=int32, numpy=6>"
            ]
          },
          "metadata": {
            "tags": []
          },
          "execution_count": 48
        }
      ]
    },
    {
      "cell_type": "code",
      "metadata": {
        "colab": {
          "base_uri": "https://localhost:8080/"
        },
        "id": "DIy3xd6avndS",
        "outputId": "672e8331-8aa6-4dcd-c0df-2214d12945ed"
      },
      "source": [
        "#you can produce dot product using this one like:\r\n",
        "tf.reduce_sum(x*y, axis=0)"
      ],
      "execution_count": 50,
      "outputs": [
        {
          "output_type": "execute_result",
          "data": {
            "text/plain": [
              "<tf.Tensor: shape=(), dtype=int32, numpy=46>"
            ]
          },
          "metadata": {
            "tags": []
          },
          "execution_count": 50
        }
      ]
    },
    {
      "cell_type": "code",
      "metadata": {
        "colab": {
          "base_uri": "https://localhost:8080/"
        },
        "id": "xZPQTIFWwHGe",
        "outputId": "fe251a08-99ac-45c4-a037-b95b584957b2"
      },
      "source": [
        "#Matrix multiplication\r\n",
        "x=tf.random.normal((2,3))\r\n",
        "y=tf.random.normal((3,4))\r\n",
        "tf.matmul(x,y) #same with x @ y"
      ],
      "execution_count": 55,
      "outputs": [
        {
          "output_type": "execute_result",
          "data": {
            "text/plain": [
              "<tf.Tensor: shape=(2, 4), dtype=float32, numpy=\n",
              "array([[ 0.9636002 , -3.8877296 , -0.607612  , -1.9823567 ],\n",
              "       [ 3.283511  ,  0.09548222,  0.19016755, -0.5522427 ]],\n",
              "      dtype=float32)>"
            ]
          },
          "metadata": {
            "tags": []
          },
          "execution_count": 55
        }
      ]
    },
    {
      "cell_type": "markdown",
      "metadata": {
        "id": "DmMbcdakzzX4"
      },
      "source": [
        "# Indexing and Reshaping"
      ]
    },
    {
      "cell_type": "code",
      "metadata": {
        "colab": {
          "base_uri": "https://localhost:8080/"
        },
        "id": "PyO-5vzfxsWZ",
        "outputId": "afe75d2a-5607-4df2-d5ca-ecdc4e17fbd1"
      },
      "source": [
        "x =  tf.constant([1,2,3,4,5,6,7])\r\n",
        "indices = tf.constant([0,5])\r\n",
        "tf.gather(x, indices=indices)"
      ],
      "execution_count": 56,
      "outputs": [
        {
          "output_type": "execute_result",
          "data": {
            "text/plain": [
              "<tf.Tensor: shape=(2,), dtype=int32, numpy=array([1, 6], dtype=int32)>"
            ]
          },
          "metadata": {
            "tags": []
          },
          "execution_count": 56
        }
      ]
    },
    {
      "cell_type": "code",
      "metadata": {
        "colab": {
          "base_uri": "https://localhost:8080/"
        },
        "id": "ehyly9GL1I4q",
        "outputId": "c06b66f5-cd07-46eb-97c4-3425638f1730"
      },
      "source": [
        "x = tf.range(9)\r\n",
        "x"
      ],
      "execution_count": 58,
      "outputs": [
        {
          "output_type": "execute_result",
          "data": {
            "text/plain": [
              "<tf.Tensor: shape=(9,), dtype=int32, numpy=array([0, 1, 2, 3, 4, 5, 6, 7, 8], dtype=int32)>"
            ]
          },
          "metadata": {
            "tags": []
          },
          "execution_count": 58
        }
      ]
    },
    {
      "cell_type": "code",
      "metadata": {
        "colab": {
          "base_uri": "https://localhost:8080/"
        },
        "id": "v7hoYcX21l_O",
        "outputId": "2f9c6769-f15a-4c00-a829-a54046f48220"
      },
      "source": [
        "x = tf.reshape(x, (3,3))\r\n",
        "x"
      ],
      "execution_count": 59,
      "outputs": [
        {
          "output_type": "execute_result",
          "data": {
            "text/plain": [
              "<tf.Tensor: shape=(3, 3), dtype=int32, numpy=\n",
              "array([[0, 1, 2],\n",
              "       [3, 4, 5],\n",
              "       [6, 7, 8]], dtype=int32)>"
            ]
          },
          "metadata": {
            "tags": []
          },
          "execution_count": 59
        }
      ]
    },
    {
      "cell_type": "code",
      "metadata": {
        "colab": {
          "base_uri": "https://localhost:8080/"
        },
        "id": "G1jLS_6O1vGO",
        "outputId": "8f50fab1-82f0-496a-d259-ef8009d319af"
      },
      "source": [
        "tf.transpose(x)"
      ],
      "execution_count": 61,
      "outputs": [
        {
          "output_type": "execute_result",
          "data": {
            "text/plain": [
              "<tf.Tensor: shape=(3, 3), dtype=int32, numpy=\n",
              "array([[0, 3, 6],\n",
              "       [1, 4, 7],\n",
              "       [2, 5, 8]], dtype=int32)>"
            ]
          },
          "metadata": {
            "tags": []
          },
          "execution_count": 61
        }
      ]
    },
    {
      "cell_type": "code",
      "metadata": {
        "colab": {
          "base_uri": "https://localhost:8080/"
        },
        "id": "le59tOMh13Au",
        "outputId": "62edd799-2907-4870-a76c-09e6d4198863"
      },
      "source": [
        "tf.transpose(x, perm=[1,0]) #same result"
      ],
      "execution_count": 64,
      "outputs": [
        {
          "output_type": "execute_result",
          "data": {
            "text/plain": [
              "<tf.Tensor: shape=(3, 3), dtype=int32, numpy=\n",
              "array([[0, 3, 6],\n",
              "       [1, 4, 7],\n",
              "       [2, 5, 8]], dtype=int32)>"
            ]
          },
          "metadata": {
            "tags": []
          },
          "execution_count": 64
        }
      ]
    },
    {
      "cell_type": "code",
      "metadata": {
        "id": "wY1EDVBo2S8q"
      },
      "source": [
        ""
      ],
      "execution_count": null,
      "outputs": []
    }
  ]
}