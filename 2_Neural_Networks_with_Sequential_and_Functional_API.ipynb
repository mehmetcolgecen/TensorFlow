{
  "nbformat": 4,
  "nbformat_minor": 0,
  "metadata": {
    "colab": {
      "name": "2_Neural Networks with Sequential and Functional API.ipynb",
      "provenance": [],
      "collapsed_sections": [],
      "authorship_tag": "ABX9TyMbhl8ZkHSMszb1OemMdwe2",
      "include_colab_link": true
    },
    "kernelspec": {
      "name": "python3",
      "display_name": "Python 3"
    }
  },
  "cells": [
    {
      "cell_type": "markdown",
      "metadata": {
        "id": "view-in-github",
        "colab_type": "text"
      },
      "source": [
        "<a href=\"https://colab.research.google.com/github/mehmetcolgecen/TensorFlow/blob/main/2_Neural_Networks_with_Sequential_and_Functional_API.ipynb\" target=\"_parent\"><img src=\"https://colab.research.google.com/assets/colab-badge.svg\" alt=\"Open In Colab\"/></a>"
      ]
    },
    {
      "cell_type": "code",
      "metadata": {
        "colab": {
          "base_uri": "https://localhost:8080/"
        },
        "id": "b92WvTs5635R",
        "outputId": "ffabdedc-5878-44e0-86e0-73962b0466b2"
      },
      "source": [
        "import tensorflow as tf\r\n",
        "from tensorflow import keras\r\n",
        "from tensorflow.keras import layers\r\n",
        "from tensorflow.keras.datasets import mnist\r\n",
        "keras.__version__, tf.__version__"
      ],
      "execution_count": 1,
      "outputs": [
        {
          "output_type": "execute_result",
          "data": {
            "text/plain": [
              "('2.4.0', '2.4.0')"
            ]
          },
          "metadata": {
            "tags": []
          },
          "execution_count": 1
        }
      ]
    },
    {
      "cell_type": "code",
      "metadata": {
        "id": "UkUIL3rT71ff",
        "colab": {
          "base_uri": "https://localhost:8080/"
        },
        "outputId": "9fdb0722-f647-4309-970d-361af12fe97f"
      },
      "source": [
        "(x_train, y_train), (x_test, y_test) = mnist.load_data()"
      ],
      "execution_count": 2,
      "outputs": [
        {
          "output_type": "stream",
          "text": [
            "Downloading data from https://storage.googleapis.com/tensorflow/tf-keras-datasets/mnist.npz\n",
            "11493376/11490434 [==============================] - 0s 0us/step\n"
          ],
          "name": "stdout"
        }
      ]
    },
    {
      "cell_type": "code",
      "metadata": {
        "colab": {
          "base_uri": "https://localhost:8080/"
        },
        "id": "Yzv1KosmA-4v",
        "outputId": "dcb7987f-d9da-4403-e92f-baf5a864ec24"
      },
      "source": [
        "#we have number pictures which the values are 0 to 255\r\n",
        "# once we load the data we need to flatten and to normalize data\r\n",
        "x_train[0][5] #just look a piece of the data"
      ],
      "execution_count": 3,
      "outputs": [
        {
          "output_type": "execute_result",
          "data": {
            "text/plain": [
              "array([  0,   0,   0,   0,   0,   0,   0,   0,   0,   0,   0,   0,   3,\n",
              "        18,  18,  18, 126, 136, 175,  26, 166, 255, 247, 127,   0,   0,\n",
              "         0,   0], dtype=uint8)"
            ]
          },
          "metadata": {
            "tags": []
          },
          "execution_count": 3
        }
      ]
    },
    {
      "cell_type": "code",
      "metadata": {
        "colab": {
          "base_uri": "https://localhost:8080/"
        },
        "id": "eJZ9vzii8-9R",
        "outputId": "ce315831-5a62-474b-b369-9c5dc3737d9d"
      },
      "source": [
        "x_train.shape, y_train.shape, x_test.shape, y_test.shape"
      ],
      "execution_count": 4,
      "outputs": [
        {
          "output_type": "execute_result",
          "data": {
            "text/plain": [
              "((60000, 28, 28), (60000,), (10000, 28, 28), (10000,))"
            ]
          },
          "metadata": {
            "tags": []
          },
          "execution_count": 4
        }
      ]
    },
    {
      "cell_type": "code",
      "metadata": {
        "colab": {
          "base_uri": "https://localhost:8080/",
          "height": 265
        },
        "id": "Ds7EPXaBDstx",
        "outputId": "983b0f17-71dd-453c-959b-8794f0561335"
      },
      "source": [
        "# lets just plot its first element\r\n",
        "import matplotlib.pyplot as plt\r\n",
        "plt.imshow(x_train[0], cmap=plt.cm.binary)\r\n",
        "plt.show()\r\n"
      ],
      "execution_count": 5,
      "outputs": [
        {
          "output_type": "display_data",
          "data": {
            "image/png": "[encoded data removed]",
            "text/plain": [
              "<Figure size 432x288 with 1 Axes>"
            ]
          },
          "metadata": {
            "tags": [],
            "needs_background": "light"
          }
        }
      ]
    },
    {
      "cell_type": "code",
      "metadata": {
        "id": "gEC7mcrr9Vdy"
      },
      "source": [
        "#flattenning and normalizing train and test data\r\n",
        "x_train = x_train.reshape(-1, 28*28).astype(\"float32\")/255\r\n",
        "x_test = x_test.reshape(-1, 28*28).astype(\"float32\")/255"
      ],
      "execution_count": 26,
      "outputs": []
    },
    {
      "cell_type": "code",
      "metadata": {
        "id": "UURHMMIm_ohd"
      },
      "source": [
        "#Sequential API (Very convenient, but not very flexible) (One input and One Output)\r\n",
        "# that means 512 x 256 x 10 layers\r\n",
        "model = keras.Sequential(\r\n",
        "    [\r\n",
        "     keras.Input(shape=(28*28)),\r\n",
        "     layers.Dense(512, activation='relu'),\r\n",
        "     layers.Dense(256, activation='relu'),\r\n",
        "     layers.Dense(10)\r\n",
        "    ]\r\n",
        ")"
      ],
      "execution_count": 27,
      "outputs": []
    },
    {
      "cell_type": "code",
      "metadata": {
        "colab": {
          "base_uri": "https://localhost:8080/"
        },
        "id": "fFqJ8U_pMBso",
        "outputId": "b1ec783c-eac3-4295-9e1d-6df0007c25fa"
      },
      "source": [
        "model.summary()"
      ],
      "execution_count": 28,
      "outputs": [
        {
          "output_type": "stream",
          "text": [
            "Model: \"sequential_7\"\n",
            "_________________________________________________________________\n",
            "Layer (type)                 Output Shape              Param #   \n",
            "=================================================================\n",
            "dense_16 (Dense)             (None, 512)               401920    \n",
            "_________________________________________________________________\n",
            "dense_17 (Dense)             (None, 256)               131328    \n",
            "_________________________________________________________________\n",
            "dense_18 (Dense)             (None, 10)                2570      \n",
            "=================================================================\n",
            "Total params: 535,818\n",
            "Trainable params: 535,818\n",
            "Non-trainable params: 0\n",
            "_________________________________________________________________\n"
          ],
          "name": "stdout"
        }
      ]
    },
    {
      "cell_type": "code",
      "metadata": {
        "id": "b1ACi76mM4Fe"
      },
      "source": [
        "# Here is alternative way to building a model.\r\n",
        "# model = keras.Sequential()\r\n",
        "# model.add(keras.Input(shape=28*28))\r\n",
        "# mode.add(layers.Dense(512,activation='relu'))\r\n",
        "# print(model.summary())\r\n",
        "# model.add(layers.Dense(256,activation='relu'))\r\n",
        "# model.add(layers.Dense(10))"
      ],
      "execution_count": 29,
      "outputs": []
    },
    {
      "cell_type": "code",
      "metadata": {
        "id": "WlU3SS3Y_qYe"
      },
      "source": [
        "model.compile(\r\n",
        "    loss=keras.losses.SparseCategoricalCrossentropy(from_logits=True),\r\n",
        "    optimizer=keras.optimizers.Adam(lr=0.001),\r\n",
        "    metrics = ['accuracy']\r\n",
        ")"
      ],
      "execution_count": 30,
      "outputs": []
    },
    {
      "cell_type": "code",
      "metadata": {
        "colab": {
          "base_uri": "https://localhost:8080/"
        },
        "id": "5JbOJ7LqHJig",
        "outputId": "d6d8737b-3357-4e2f-a775-58f5e2b4dec1"
      },
      "source": [
        "model.fit(x_train, y_train, batch_size=32, epochs=5, verbose=2)\r\n",
        "model.evaluate(x_test, y_test, batch_size=32, verbose=2)"
      ],
      "execution_count": 31,
      "outputs": [
        {
          "output_type": "stream",
          "text": [
            "Epoch 1/5\n",
            "1875/1875 - 9s - loss: 0.5742 - accuracy: 0.8268\n",
            "Epoch 2/5\n",
            "1875/1875 - 8s - loss: 0.2888 - accuracy: 0.9147\n",
            "Epoch 3/5\n",
            "1875/1875 - 8s - loss: 0.2222 - accuracy: 0.9343\n",
            "Epoch 4/5\n",
            "1875/1875 - 8s - loss: 0.1721 - accuracy: 0.9484\n",
            "Epoch 5/5\n",
            "1875/1875 - 8s - loss: 0.1389 - accuracy: 0.9584\n",
            "313/313 - 1s - loss: 0.1239 - accuracy: 0.9631\n"
          ],
          "name": "stdout"
        },
        {
          "output_type": "execute_result",
          "data": {
            "text/plain": [
              "[0.12386228144168854, 0.963100016117096]"
            ]
          },
          "metadata": {
            "tags": []
          },
          "execution_count": 31
        }
      ]
    },
    {
      "cell_type": "code",
      "metadata": {
        "colab": {
          "base_uri": "https://localhost:8080/"
        },
        "id": "MjFEjh6oH-7l",
        "outputId": "1b231a95-59c3-41bd-d0b7-260d103d15f7"
      },
      "source": [
        "#Lets try a different API this time\r\n",
        "#we are gonna use Functional API which is a bit more flexible than sequantial API - more inputs and outputs\r\n",
        "\r\n",
        "inputs = keras.Input(shape=(28*28))\r\n",
        "x=layers.Dense(512,activation='relu', name='first_layer')(inputs)\r\n",
        "x=layers.Dense(256,activation=\"relu\", name=\"second_layer\")(x)\r\n",
        "outputs = layers.Dense(10,activation='softmax')(x)\r\n",
        "\r\n",
        "model = keras.Model(inputs=inputs, outputs=outputs)\r\n",
        "\r\n",
        "model.compile(\r\n",
        "    loss=keras.losses.SparseCategoricalCrossentropy(from_logits=False),\r\n",
        "    optimizer=keras.optimizers.Adam(lr=0.001),\r\n",
        "    metrics = ['accuracy']\r\n",
        ")\r\n",
        "\r\n",
        "model.fit(x_train, y_train, batch_size=32, epochs=5, verbose=2)\r\n",
        "model.evaluate(x_test, y_test, batch_size=32, verbose=2)\r\n"
      ],
      "execution_count": 14,
      "outputs": [
        {
          "output_type": "stream",
          "text": [
            "Epoch 1/5\n",
            "1875/1875 - 8s - loss: 0.1821 - accuracy: 0.9450\n",
            "Epoch 2/5\n",
            "1875/1875 - 8s - loss: 0.0790 - accuracy: 0.9759\n",
            "Epoch 3/5\n",
            "1875/1875 - 8s - loss: 0.0513 - accuracy: 0.9836\n",
            "Epoch 4/5\n",
            "1875/1875 - 8s - loss: 0.0403 - accuracy: 0.9869\n",
            "Epoch 5/5\n",
            "1875/1875 - 8s - loss: 0.0327 - accuracy: 0.9894\n",
            "313/313 - 1s - loss: 0.0765 - accuracy: 0.9786\n"
          ],
          "name": "stdout"
        },
        {
          "output_type": "execute_result",
          "data": {
            "text/plain": [
              "[0.07650266587734222, 0.978600025177002]"
            ]
          },
          "metadata": {
            "tags": []
          },
          "execution_count": 14
        }
      ]
    },
    {
      "cell_type": "markdown",
      "metadata": {
        "id": "SoS-K0gRs5ol"
      },
      "source": [
        "## How to extract spesific outputs.\r\n",
        "These can be use for ***debugging***\r\n",
        "\r\n",
        "lets try these on **Sequentian API** but works on Functional API as well"
      ]
    },
    {
      "cell_type": "code",
      "metadata": {
        "id": "ivaajk9SN0H4",
        "colab": {
          "base_uri": "https://localhost:8080/"
        },
        "outputId": "eab1611d-d802-4ee5-9fca-39956df4507c"
      },
      "source": [
        "#just one layers output\r\n",
        "model = keras.Sequential()\r\n",
        "model.add(keras.Input(shape=28*28))\r\n",
        "model.add(layers.Dense(512,activation='relu'))\r\n",
        "model.add(layers.Dense(256,activation='relu',name='my_layer'))\r\n",
        "model.add(layers.Dense(10))\r\n",
        "\r\n",
        "model = keras.Model(inputs=model.inputs,\r\n",
        "                    outputs=[model.get_layer('my_layer').output])\r\n",
        "\r\n",
        "feature = model.predict(x_train)\r\n",
        "feature.shape\r\n",
        "# model.summary()"
      ],
      "execution_count": 17,
      "outputs": [
        {
          "output_type": "execute_result",
          "data": {
            "text/plain": [
              "(60000, 256)"
            ]
          },
          "metadata": {
            "tags": []
          },
          "execution_count": 17
        }
      ]
    },
    {
      "cell_type": "code",
      "metadata": {
        "colab": {
          "base_uri": "https://localhost:8080/"
        },
        "id": "GCDTAH-buzig",
        "outputId": "c2226138-84af-4179-eea8-ad34350a61da"
      },
      "source": [
        "#all the features\r\n",
        "#just one layers output\r\n",
        "model = keras.Sequential()\r\n",
        "model.add(keras.Input(shape=28*28))\r\n",
        "model.add(layers.Dense(512,activation='relu'))\r\n",
        "model.add(layers.Dense(256,activation='relu',name='my_layer'))\r\n",
        "model.add(layers.Dense(10))\r\n",
        "\r\n",
        "model = keras.Model(inputs=model.inputs,\r\n",
        "                    outputs=[layer.output for layer in model.layers])\r\n",
        "\r\n",
        "features = model.predict(x_train)\r\n",
        "for feature in features:\r\n",
        "  print(feature.shape)\r\n",
        "# model.summary()\r\n"
      ],
      "execution_count": 19,
      "outputs": [
        {
          "output_type": "stream",
          "text": [
            "(60000, 512)\n",
            "(60000, 256)\n",
            "(60000, 10)\n"
          ],
          "name": "stdout"
        },
        {
          "output_type": "execute_result",
          "data": {
            "text/plain": [
              "(60000, 10)"
            ]
          },
          "metadata": {
            "tags": []
          },
          "execution_count": 19
        }
      ]
    },
    {
      "cell_type": "code",
      "metadata": {
        "id": "IoI23fZAvxjC"
      },
      "source": [
        ""
      ],
      "execution_count": null,
      "outputs": []
    }
  ]
}